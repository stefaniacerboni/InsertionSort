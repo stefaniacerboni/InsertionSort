{
 "cells": [
  {
   "cell_type": "markdown",
   "metadata": {},
   "source": [
    "# **Insertion Sort**#\n",
    "L’algoritmo Insertion sort (ordinamento ad inserimento) appartiene alla classe degli algoritmi di ordinamento. Esso opera su strutture dati di tipo Array, è di facile implementazione ma, nella maggior parte dei casi, meno efficiente rispetto ad altri algoritmi di ordinamento.\n"
   ]
  },
  {
   "cell_type": "markdown",
   "metadata": {},
   "source": [
    "### Funzionamento###\n",
    "\n",
    "L’Insertion sort è un algoritmo ”in place” ovvero, ordina la sequenza di numeri sul posto, senza doversi appoggiare su una copia della struttura dati su cui opera. Si assume che la sequenza sia divisa in due sezioni : una già ordinata, inizialmente composta solo da un elemento, e una da ordinare. Ad ogni iterazione l’algoritmo rimuove dalla sottosequenza da ordinare un elemento e lo inserisce (da qui il nome ”Insertion sort”) nella sua posizione corretta all’interno della sottosequenza già ordinata, estendendola di un elemento. Il confronto necessario per individuare la posizione corretta dell’elemento da ordinare, generalmente è fatto utilizzando due indici: uno punta all’elemento da ordinare e l’altro all’elemento immediatamente precedente (inizialmente, il massimo della sottosequenza già ordinata). Se l’elemento puntato dal secondo indice è minore dell’elemento da ordinare, lo lascia nella sua posizione e passa all’elemento successivo, altrimenti scambia di posto gli elementi puntati dai due indici. Tale operazione è ripetuta fino a che a sinistra dell’elemento puntato dal primo indice vi sono solamente valori minori di esso. Per tale motivo l’algoritmo tende a spostare verso destra i valori maggiori (e analogamente, verso sinistra i valori minori)."
   ]
  },
  {
   "cell_type": "markdown",
   "metadata": {},
   "source": [
    "**Esempio** di un Array _\"A\"_ inizializzato con valori casuali:"
   ]
  },
  {
   "cell_type": "code",
   "execution_count": 3,
   "metadata": {
    "collapsed": false
   },
   "outputs": [],
   "source": [
    "A=[39, 76, 15, 90, 21, 52, 17, 75, 39, 99]"
   ]
  },
  {
   "cell_type": "markdown",
   "metadata": {},
   "source": [
    "**Codice** dell'algoritmo _Insertion Sort_ in Python:"
   ]
  },
  {
   "cell_type": "code",
   "execution_count": 51,
   "metadata": {
    "collapsed": false
   },
   "outputs": [],
   "source": [
    "def InsertionSort (A):\n",
    "    for j in range(1,len(A)):\n",
    "        key = A[j]\n",
    "        i=j-1\n",
    "        while (i>=0) and (A[i] > key) :\n",
    "            A[i+1]=A[i]\n",
    "            i=i-1\n",
    "        A[i+1]=key\n",
    "        print(A)"
   ]
  },
  {
   "cell_type": "markdown",
   "metadata": {},
   "source": [
    "**Prova** del funzionamento dell'algoritmo, stampando il risultato parziale dell'ordinamento ad ogni iterazione:"
   ]
  },
  {
   "cell_type": "code",
   "execution_count": 52,
   "metadata": {
    "collapsed": false
   },
   "outputs": [
    {
     "name": "stdout",
     "output_type": "stream",
     "text": [
      "[39, 76, 15, 90, 21, 52, 17, 75, 39, 99]\n",
      "[15, 39, 76, 90, 21, 52, 17, 75, 39, 99]\n",
      "[15, 39, 76, 90, 21, 52, 17, 75, 39, 99]\n",
      "[15, 21, 39, 76, 90, 52, 17, 75, 39, 99]\n",
      "[15, 21, 39, 52, 76, 90, 17, 75, 39, 99]\n",
      "[15, 17, 21, 39, 52, 76, 90, 75, 39, 99]\n",
      "[15, 17, 21, 39, 52, 75, 76, 90, 39, 99]\n",
      "[15, 17, 21, 39, 39, 52, 75, 76, 90, 99]\n",
      "[15, 17, 21, 39, 39, 52, 75, 76, 90, 99]\n"
     ]
    }
   ],
   "source": [
    "InsertionSort(A)"
   ]
  },
  {
   "cell_type": "markdown",
   "metadata": {},
   "source": [
    "Una volta ordinato l'Array \"A\" possiamo sfruttare il fatto che i suoi elementi siano disposti in ordine **crescente**, per applicare l'algoritmo di **Ricerca Binaria**"
   ]
  },
  {
   "cell_type": "markdown",
   "metadata": {},
   "source": [
    "# Binary Search#\n",
    "La **ricerca binaria** o **ricerca dicotomica** è un **algoritmo di ricerca** che, dato un certo valore in ingresso, da ricercare all'interno di una lista, restituisce l'indice di quel determinato valore all'interno della lista, se presente, altrimenti comunica che non è presente (restituendo valore \"False\" o \"-1\").<br>\n",
    "\n"
   ]
  },
  {
   "cell_type": "markdown",
   "metadata": {},
   "source": [
    "## Analisi \n",
    "La ricerca binaria ha una naturale applicazione su strutture dati contenenti elementi **già ordinati**, con una relazione di ordine totale dominata da \"**>=**\" (elementi in ordine crescente) ed in cui sia possibile accedere _casualmente_ agli elementi tramite _indice_; gli Array ordinati in ordine crescente, come quello su cui andremo ad eseguire l'algoritmo, sono perciò i parametri in ingresso ideali per la ricerca binaria. <br> Il valore da ricercare (**target**) viene comparato con l'elemento in **posizione centrale** nell'array; se è _uguale_, la ricerca termina con successo, restituendo l'**indice mediano** dell'array. Altrimenti si avranno due casi: il target è _maggiore_ o _minore_ dell'elemento in posizione centrale. Se il target è maggiore, la ricerca prosegue nel **sottoarray destro** (dalla posizione mediana, fino alla fine dell'array), altrimenti (il target è minore dell'elemento centrale) in quello **sinistro** (dalla posizione iniziale fino alla metà dell'array). Quando la ricerca viene effettuata su un vettore di lunghezza pari a 0, la ricerca _fallisce_ concludendo che il target _non è presente_ all'interno del vettore.<br> L'algoritmo ha due diverse implementazioni: una _ricorsiva_ ed una iterativa, in questo esempio viene proposta la forma iterativa che si ottiene utilizzando due indici _i_ e _j_ che, nel corso delle iterazioni, rappresentano rispettivamente l'indice del **primo elemento** e la **lunghezza** del sotto-vettore nel quale è possibile trovare il target desiderato. Ad ogni iterazione, l'algoritmo consente di **escludere** dalla ricerca **metà degli elementi** dell'array, lavorando passo dopo passo su sezioni sempre più corte. <br>"
   ]
  },
  {
   "cell_type": "markdown",
   "metadata": {},
   "source": [
    "## Costo dell'algoritmo \n",
    "Come descritto in precedenza, questo algoritmo cerca un elemento all'interno di un array che deve essere già ordinato in ordine crescente, effettuando mediamente meno confronti rispetto ad una **ricerca sequenziale**.\n",
    "La ricerca binaria non impiega più di $\\log_2N$ (approssimato per eccesso) confronti per una ricerca con esito positivo o negativo.\n",
    "Il **caso ottimo** si otterrà quando al primo confronto si ottiene un hit, ciò succederà se il valore che sto cercando si trova nella posizione centrale dell'array, in tal caso il tempo di esecuzione sarà $\\mathcal{O}(1)$.\n",
    "Il **caso medio** e il **caso peggiore** si avranno in tutte le altre situazioni: come già detto, al massimo l'algoritmo impiegherà $\\log_2N$ confronti, il tempo di esecuzione sarà quindi $\\mathcal{O}(\\log_2N)$"
   ]
  },
  {
   "cell_type": "markdown",
   "metadata": {},
   "source": [
    "**Codice** in Python per la **ricerca binaria (binary search)** di un valore in un Array ordinato, verrà usato l'Array appena ordinato _\"A\"_ per ottimizzare il costo."
   ]
  },
  {
   "cell_type": "code",
   "execution_count": 57,
   "metadata": {
    "collapsed": false
   },
   "outputs": [
    {
     "name": "stdout",
     "output_type": "stream",
     "text": [
      "Array A ordinato, con valori:\n",
      "[15, 17, 21, 39, 39, 52, 75, 76, 90, 99]\n"
     ]
    }
   ],
   "source": [
    "print(\"Array A ordinato, con valori:\")\n",
    "print(A)"
   ]
  },
  {
   "cell_type": "code",
   "execution_count": 10,
   "metadata": {
    "collapsed": false
   },
   "outputs": [],
   "source": [
    "def BinarySearch(A,value):\n",
    "    i = 0\n",
    "    j = len(A)-1\n",
    "    while(i <= j):\n",
    "        center = (i+j)//2\n",
    "        if(value < A[center]):\n",
    "            j = center-1\n",
    "        elif(value > A[center]):\n",
    "            i = center+1\n",
    "        else:\n",
    "            return center\n",
    "    return -1"
   ]
  },
  {
   "cell_type": "markdown",
   "metadata": {},
   "source": [
    "<br>**Ricerca** di un valore **presente** nella lista: il codice restituisce la posizione di tale elemento all'interno della lista, -1 se tale elemento non è presente <br> **N.B.** L'array è indicizzato a partire da 0 fino alla lunghezza-1"
   ]
  },
  {
   "cell_type": "code",
   "execution_count": 14,
   "metadata": {
    "collapsed": false
   },
   "outputs": [
    {
     "name": "stdout",
     "output_type": "stream",
     "text": [
      "Elemento trovato in posizione: \n"
     ]
    },
    {
     "data": {
      "text/plain": [
       "9"
      ]
     },
     "execution_count": 14,
     "metadata": {},
     "output_type": "execute_result"
    }
   ],
   "source": [
    "print(\"Elemento trovato in posizione: \")\n",
    "BinarySearch(A,99)"
   ]
  },
  {
   "cell_type": "code",
   "execution_count": 15,
   "metadata": {
    "collapsed": false
   },
   "outputs": [
    {
     "data": {
      "text/plain": [
       "-1"
      ]
     },
     "execution_count": 15,
     "metadata": {},
     "output_type": "execute_result"
    }
   ],
   "source": [
    "BinarySearch(A,22)"
   ]
  }
 ],
 "metadata": {
  "kernelspec": {
   "display_name": "Python 3",
   "language": "python",
   "name": "python3"
  },
  "language_info": {
   "codemirror_mode": {
    "name": "ipython",
    "version": 3
   },
   "file_extension": ".py",
   "mimetype": "text/x-python",
   "name": "python",
   "nbconvert_exporter": "python",
   "pygments_lexer": "ipython3",
   "version": "3.6.0"
  }
 },
 "nbformat": 4,
 "nbformat_minor": 2
}
